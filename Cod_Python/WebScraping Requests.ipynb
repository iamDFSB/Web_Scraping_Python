{
 "cells": [
  {
   "cell_type": "markdown",
   "id": "4375ff1f",
   "metadata": {},
   "source": [
    "### **Web Scraping Usando Pandas**"
   ]
  },
  {
   "cell_type": "code",
   "execution_count": 74,
   "id": "01fc0f13",
   "metadata": {},
   "outputs": [],
   "source": [
    "import requests\n",
    "from bs4 import BeautifulSoup\n",
    "import pandas as pd"
   ]
  },
  {
   "cell_type": "code",
   "execution_count": 3,
   "id": "095590e7",
   "metadata": {},
   "outputs": [],
   "source": [
    "requests=requests.get('https://www.mercadolivre.com.br/ofertas#DEAL_ID=MLB15920&S=landingHubdia-do-consumidor-2023&V=29&T=CarouselDynamic-normal&L=VER-MAIS&deal_print_id=55a7be80-be93-11ed-bbf9-3b8ca5d9adc4&c_id=carouseldynamic-normal&c_element_order=undefined&c_campaign=VER-MAIS&c_uid=55a7be80-be93-11ed-bbf9-3b8ca5d9adc4')"
   ]
  },
  {
   "cell_type": "code",
   "execution_count": 4,
   "id": "fccaf944",
   "metadata": {
    "scrolled": true
   },
   "outputs": [
    {
     "name": "stdout",
     "output_type": "stream",
     "text": [
      "Status <Response [200]>\n",
      "↓↓ Headers below ↓↓\n",
      "==============================\n",
      "{'Content-Type': 'text/html; charset=utf-8', 'Transfer-Encoding': 'chunked', 'Connection': 'keep-alive', 'Date': 'Thu, 09 Mar 2023 18:05:05 GMT', 'Server': 'Tengine', 'Set-Cookie': '_d2id=f8e0d890-efa1-4c5b-8bb4-12f764775035-n; Path=/; Domain=.mercadolivre.com.br; Expires=Fri, 08 Mar 2024 18:05:04 GMT, _csrf=V6CedjXsKHtoD_Sxv_5Url3q; Path=/; HttpOnly; Secure, c_ui-navigation=5.21.22; Domain=www.mercadolivre.com.br; Path=/; Expires=Sat, 08 Apr 2023 18:05:05 GMT; HttpOnly; Secure; SameSite=None, c_buyer=6.4.0; Domain=www.mercadolivre.com.br; Path=/; Expires=Sat, 08 Apr 2023 18:05:05 GMT; HttpOnly; Secure; SameSite=None', 'x-dns-prefetch-control': 'on', 'expect-ct': 'max-age=0', 'strict-transport-security': 'max-age=15552000; includeSubDomains', 'x-download-options': 'noopen', 'x-content-type-options': 'nosniff', 'x-permitted-cross-domain-policies': 'none', 'referrer-policy': 'no-referrer-when-downgrade', 'x-xss-protection': '1; mode=block', 'accept-ch': 'device-memory, dpr, viewport-width, rtt, downlink, ect, save-data', 'accept-ch-lifetime': '60', 'cache-control': 'private, max-age=0, no-cache, no-store, must-revalidate', 'x-app-version': '6.4.0', 'x-navigation-version': 'layout-4.11.3', 'link': '<https://http2.mlstatic.com/frontend-assets/sp-offers-frontend/vendor.12361fde.js>; rel=preload; as=script; crossorigin=anonymous, <https://http2.mlstatic.com/frontend-assets/sp-offers-frontend/buyer.c050dbcd.js>; rel=preload; as=script; crossorigin=anonymous', 'etag': 'W/\"8913d-FBRb6mXMr6uzaTp/VO6RpyAiiZE\"', 'vary': 'Accept-Encoding', 'content-encoding': 'gzip', 'x-envoy-upstream-service-time': '550', 'x-envoy-decorator-operation': 'mlb.sp-offers-frontend.melifrontends.com', 'X-Request-Id': 'f8e0d890-efa1-4c5b-8bb4-12f764775035', 'X-Request-Device-Id': 'f8e0d890-efa1-4c5b-8bb4-12f764775035', 'X-D2id': 'f8e0d890-efa1-4c5b-8bb4-12f764775035', 'X-Cache': 'Miss from cloudfront', 'Via': '1.1 43a4d3e4259eb061aec1bfcb6d130de6.cloudfront.net (CloudFront)', 'X-Amz-Cf-Pop': 'GRU50-C1', 'X-Amz-Cf-Id': 'anO_g7h3q8VR16Fr09nSn377BWLhf9Rfmwf6-mXWrcFP_B4EeqEROw=='}\n",
      "==============================\n"
     ]
    }
   ],
   "source": [
    "print('Status',requests)\n",
    "print('↓↓ Headers below ↓↓')\n",
    "print(\"=\"*30)\n",
    "print(requests.headers)\n",
    "print(\"=\"*30)"
   ]
  },
  {
   "cell_type": "code",
   "execution_count": 26,
   "id": "ef50091f",
   "metadata": {},
   "outputs": [],
   "source": [
    "content = requests.content\n",
    "sites = BeautifulSoup(content,'html.parser')"
   ]
  },
  {
   "cell_type": "markdown",
   "id": "513c55fa",
   "metadata": {},
   "source": [
    "### **_Determinando o valor do produto_** "
   ]
  },
  {
   "cell_type": "code",
   "execution_count": 18,
   "id": "fcc3c8d5",
   "metadata": {},
   "outputs": [
    {
     "name": "stdout",
     "output_type": "stream",
     "text": [
      "R$999\n"
     ]
    }
   ],
   "source": [
    "preco = sites.find('span', attrs = {'class': 'andes-money-amount__fraction'})\n",
    "print('R${}'.format(preco.text))"
   ]
  },
  {
   "cell_type": "markdown",
   "id": "f4aa4bd5",
   "metadata": {},
   "source": [
    "### **_Determinando o nome do produto_**"
   ]
  },
  {
   "cell_type": "code",
   "execution_count": 47,
   "id": "db926885",
   "metadata": {},
   "outputs": [
    {
     "name": "stdout",
     "output_type": "stream",
     "text": [
      "Samsung Galaxy M13 Dual SIM 128 GB verde 4 GB RAM custa R$999,00\n"
     ]
    }
   ],
   "source": [
    "nomeProduto = sites.find('p', attrs = {'class':'promotion-item__title'})\n",
    "print(f'{nomeProduto.text} custa R${preco.text},00')"
   ]
  },
  {
   "cell_type": "markdown",
   "id": "976d586d",
   "metadata": {},
   "source": [
    "### **Aplicando o Find ALL em tudo**"
   ]
  },
  {
   "cell_type": "code",
   "execution_count": 72,
   "id": "4a1b6691",
   "metadata": {},
   "outputs": [
    {
     "name": "stdout",
     "output_type": "stream",
     "text": [
      "https://http2.mlstatic.com/D_Q_NP_783080-MLB49869562766_052022-W.jpg\n",
      "Bicicleta Aro 29 Krw Alumínio 24 Vel Freio A Disco X42 custa\u001b[35m R$899,00\u001b[m\n",
      "==================================================\n",
      "https://http2.mlstatic.com/D_Q_NP_759464-MLB52319273009_112022-W.jpg\n",
      "Kit 2x Whey Protein + 2x Bcaa + 2x Creatina + Coqueteleira custa\u001b[35m R$135,00\u001b[m\n",
      "==================================================\n",
      "https://http2.mlstatic.com/D_Q_NP_720636-MLA52003462494_102022-W.jpg\n",
      "Fritadeira Elétrica Sem Óleo Airfryer Elgin Flash Fryer 127v custa\u001b[35m R$329,00\u001b[m\n",
      "==================================================\n"
     ]
    }
   ],
   "source": [
    "siteBody = sites.findAll('li', attrs = {'class': 'promotion-item default'})\n",
    "for site in siteBody:\n",
    "    preco = site.find('span', attrs = {'class':'andes-money-amount__fraction'})\n",
    "    nomeProduto = site.find('p', attrs = {'class':'promotion-item__title'})\n",
    "    imagem = site.find('img', attrs = {'class':'promotion-item__img'})\n",
    "    imagemLink=imagem['src']\n",
    "    if 'https' in imagemLink:\n",
    "        print(imagem['src'])\n",
    "        print(f'{nomeProduto.text} custa\\033[35m R${preco.text},00\\033[m')\n",
    "        print(\"=\"*50)"
   ]
  },
  {
   "cell_type": "code",
   "execution_count": 132,
   "id": "65844d1c",
   "metadata": {
    "scrolled": true
   },
   "outputs": [
    {
     "name": "stdout",
     "output_type": "stream",
     "text": [
      "\u001b[31m → \u001b[mBicicleta Aro 29 Krw Alumínio 24 Vel Freio A Disco X42 custa\u001b[35m R$899,00\u001b[m\n",
      "==================================================\n",
      "\u001b[31m → \u001b[mKit 2x Whey Protein + 2x Bcaa + 2x Creatina + Coqueteleira custa\u001b[35m R$135,00\u001b[m\n",
      "==================================================\n",
      "\u001b[31m → \u001b[mFritadeira Elétrica Sem Óleo Airfryer Elgin Flash Fryer 127v custa\u001b[35m R$329,00\u001b[m\n",
      "==================================================\n",
      "\u001b[31m → \u001b[mSamsung Galaxy M13 Dual SIM 128 GB verde 4 GB RAM custa\u001b[35m R$999,00\u001b[m\n",
      "==================================================\n",
      "\u001b[31m → \u001b[mSmart TV LG 32LQ621CBSB .AWZ LED HD 32\" 100V/240V custa\u001b[35m R$1.329,00\u001b[m\n",
      "==================================================\n",
      "\u001b[31m → \u001b[mNotebook A315-58-573p I5 8gb 256gb Ssd 15,6'' Cinza Acer custa\u001b[35m R$2.964,00\u001b[m\n",
      "==================================================\n",
      "\u001b[31m → \u001b[mRobô aspirador Wap W300  vermelho e preto 110V/220V custa\u001b[35m R$949,00\u001b[m\n",
      "==================================================\n",
      "\u001b[31m → \u001b[mBicicleta Alum 29 Ksw Gta 27 Vel Freio Disco Hidrául E Trava custa\u001b[35m R$1.329,00\u001b[m\n",
      "==================================================\n",
      "\u001b[31m → \u001b[mCâmera Ip Icsee Prova D'água Infravermelho Externa Wifi Hd 3 custa\u001b[35m R$169,00\u001b[m\n",
      "==================================================\n",
      "\u001b[31m → \u001b[mSamsung Galaxy M13 Dual SIM 128 GB azul 4 GB RAM custa\u001b[35m R$999,00\u001b[m\n",
      "==================================================\n",
      "\u001b[31m → \u001b[mSmart TV Samsung UN32T4300AGXZD LED HD 32\" custa\u001b[35m R$1.299,00\u001b[m\n",
      "==================================================\n",
      "\u001b[31m → \u001b[mControle joystick sem fio Microsoft Xbox Wireless Controller Series X|S carbon black custa\u001b[35m R$389,00\u001b[m\n",
      "==================================================\n",
      "\u001b[31m → \u001b[mImpressora a cor multifuncional HP Deskjet Ink Advantage 2774 com wifi preta 100V/240V custa\u001b[35m R$387,00\u001b[m\n",
      "==================================================\n",
      "\u001b[31m → \u001b[mAr condicionado Consul  split inverter  frio 9000 BTU  branco 220V CBF09EBBCJ custa\u001b[35m R$1.606,00\u001b[m\n",
      "==================================================\n",
      "\u001b[31m → \u001b[mCâmera Externa Ip Prova D'água Infravermelho Externa Wifi Hd custa\u001b[35m R$202,00\u001b[m\n",
      "==================================================\n",
      "\u001b[31m → \u001b[mSamsung Galaxy A03s Dual SIM 64 GB preto 4 GB RAM custa\u001b[35m R$799,00\u001b[m\n",
      "==================================================\n",
      "\u001b[31m → \u001b[mMonitor Gamer LG 22mp410-b 21,5 Full Hd 75hz 5ms Hdmi Va Freesync custa\u001b[35m R$619,00\u001b[m\n",
      "==================================================\n",
      "\u001b[31m → \u001b[mSmart TV Samsung UN43AU7700GXZD LED 4K 43\" 100V/240V custa\u001b[35m R$2.022,00\u001b[m\n",
      "==================================================\n",
      "\u001b[31m → \u001b[mSuplemento em pó Soldiers Nutrition  Creatina Monohidratada creatina Creatina Monohidratada em envelope de 500g custa\u001b[35m R$131,00\u001b[m\n",
      "==================================================\n",
      "\u001b[31m → \u001b[mAr condicionado LG Dual Inverter Voice  split  frio 9000 BTU  branco 220V S4-Q09AA31B custa\u001b[35m R$1.799,00\u001b[m\n",
      "==================================================\n",
      "\u001b[31m → \u001b[mNotebook Acer Aspire 3 A31534c2bv Celeron 4gb Ddr4 Ssd 128gb custa\u001b[35m R$1.708,00\u001b[m\n",
      "==================================================\n",
      "\u001b[31m → \u001b[mSamsung Galaxy M13 Dual SIM 128 GB cobre 4 GB RAM custa\u001b[35m R$999,00\u001b[m\n",
      "==================================================\n",
      "\u001b[31m → \u001b[mFone de ouvido on-ear sem fio JBL Tune 510BT JBLT510BT preto custa\u001b[35m R$219,00\u001b[m\n",
      "==================================================\n",
      "\u001b[31m → \u001b[mEscova Tourmaline Secadora Alisadora Britânia Soft Íon 1300w Voltagem 110v/220v custa\u001b[35m R$169,00\u001b[m\n",
      "==================================================\n",
      "\u001b[31m → \u001b[mVentilador de mesa Mondial VSP-30 turbo preto com 6 pás cor  prata, 30 cm de diâmetro 220 V custa\u001b[35m R$118,00\u001b[m\n",
      "==================================================\n",
      "\u001b[31m → \u001b[mCâmera de segurança Intelbras iM3 com resolução de 2MP visão nocturna incluída preta custa\u001b[35m R$249,00\u001b[m\n",
      "==================================================\n",
      "\u001b[31m → \u001b[mCadeira De Escritório Executiva Com Braços Nr 17  custa\u001b[35m R$311,00\u001b[m\n",
      "==================================================\n",
      "\u001b[31m → \u001b[mNotebook Samsung Book NP550XDA-KV3BR  cinza-místico 15.6\", Intel Core i3 1115G4  4GB de RAM 256GB SSD, Intel UHD Graphics Xe G4 48EUs 1920x1080px Windows 11 Home custa\u001b[35m R$2.299,00\u001b[m\n",
      "==================================================\n",
      "\u001b[31m → \u001b[mMicro-ondas Philco Branca PMO23BB   branco 20L 127V custa\u001b[35m R$559,00\u001b[m\n",
      "==================================================\n",
      "\u001b[31m → \u001b[mSamsung Galaxy A22 Dual SIM 128 GB preto 4 GB RAM custa\u001b[35m R$1.099,00\u001b[m\n",
      "==================================================\n",
      "\u001b[31m → \u001b[mMicro-ondas Electrolux MS37R   prata 27L 127V custa\u001b[35m R$779,00\u001b[m\n",
      "==================================================\n",
      "\u001b[31m → \u001b[mSamsung Galaxy A03 Core Dual SIM 32 GB black 2 GB RAM custa\u001b[35m R$659,00\u001b[m\n",
      "==================================================\n",
      "\u001b[31m → \u001b[mMonitor Samsung Gamer 22 Led Ls22a33anhlxzd Preto 100v/240v custa\u001b[35m R$689,00\u001b[m\n",
      "==================================================\n",
      "\u001b[34mExistem 33 itens no total\n"
     ]
    }
   ],
   "source": [
    "siteBody = sites.findAll('li', attrs = {'class': 'promotion-item default'})\n",
    "listaItems = []\n",
    "for site in siteBody:\n",
    "    preco = site.find('span', attrs = {'class':'andes-money-amount__fraction'})\n",
    "    nomeProduto = site.find('p', attrs = {'class':'promotion-item__title'})\n",
    "    for i in listaItems:\n",
    "        if nomeProduto in listaItems:\n",
    "            continue\n",
    "    listaItems.append([nomeProduto.text,preco.text])\n",
    "    print(f'\\033[31m → \\033[m{nomeProduto.text} custa\\033[35m R${preco.text},00\\033[m')\n",
    "    print(\"=\"*50)\n",
    "print(f'\\033[34mExistem {len(listaItems)} itens no total')"
   ]
  },
  {
   "cell_type": "code",
   "execution_count": 77,
   "id": "4a21ce64",
   "metadata": {},
   "outputs": [],
   "source": [
    "#print(site.prettify())\n",
    "#search = site.find_all('div',{'class':'content content__margin'})\n",
    "#print(search)"
   ]
  },
  {
   "cell_type": "code",
   "execution_count": 131,
   "id": "9d8304de",
   "metadata": {
    "scrolled": true
   },
   "outputs": [
    {
     "name": "stdout",
     "output_type": "stream",
     "text": [
      "[<p class=\"promotion-item__title\">Bicicleta Aro 29 Krw Alumínio 24 Vel Freio A Disco X42</p>, <span aria-hidden=\"true\" class=\"andes-money-amount__fraction\">899</span>]\n"
     ]
    }
   ],
   "source": [
    "# for i in range(len(listaItems)):\n",
    "#print(f'\\033[4;32m→\\033[m {listaItems[i].text} \\033[4;32m←\\033[m')\n",
    "print(listaItems[0])"
   ]
  },
  {
   "cell_type": "markdown",
   "id": "bcd750a8",
   "metadata": {},
   "source": [
    "### *Tabela*"
   ]
  },
  {
   "cell_type": "code",
   "execution_count": 134,
   "id": "c3806948",
   "metadata": {},
   "outputs": [
    {
     "data": {
      "text/html": [
       "<div>\n",
       "<style scoped>\n",
       "    .dataframe tbody tr th:only-of-type {\n",
       "        vertical-align: middle;\n",
       "    }\n",
       "\n",
       "    .dataframe tbody tr th {\n",
       "        vertical-align: top;\n",
       "    }\n",
       "\n",
       "    .dataframe thead th {\n",
       "        text-align: right;\n",
       "    }\n",
       "</style>\n",
       "<table border=\"1\" class=\"dataframe\">\n",
       "  <thead>\n",
       "    <tr style=\"text-align: right;\">\n",
       "      <th></th>\n",
       "      <th>Produto</th>\n",
       "      <th>Preço</th>\n",
       "    </tr>\n",
       "  </thead>\n",
       "  <tbody>\n",
       "    <tr>\n",
       "      <th>0</th>\n",
       "      <td>Bicicleta Aro 29 Krw Alumínio 24 Vel Freio A D...</td>\n",
       "      <td>899</td>\n",
       "    </tr>\n",
       "    <tr>\n",
       "      <th>1</th>\n",
       "      <td>Kit 2x Whey Protein + 2x Bcaa + 2x Creatina + ...</td>\n",
       "      <td>135</td>\n",
       "    </tr>\n",
       "    <tr>\n",
       "      <th>2</th>\n",
       "      <td>Fritadeira Elétrica Sem Óleo Airfryer Elgin Fl...</td>\n",
       "      <td>329</td>\n",
       "    </tr>\n",
       "    <tr>\n",
       "      <th>3</th>\n",
       "      <td>Samsung Galaxy M13 Dual SIM 128 GB verde 4 GB RAM</td>\n",
       "      <td>999</td>\n",
       "    </tr>\n",
       "    <tr>\n",
       "      <th>4</th>\n",
       "      <td>Smart TV LG 32LQ621CBSB .AWZ LED HD 32\" 100V/240V</td>\n",
       "      <td>1.329</td>\n",
       "    </tr>\n",
       "    <tr>\n",
       "      <th>5</th>\n",
       "      <td>Notebook A315-58-573p I5 8gb 256gb Ssd 15,6'' ...</td>\n",
       "      <td>2.964</td>\n",
       "    </tr>\n",
       "    <tr>\n",
       "      <th>6</th>\n",
       "      <td>Robô aspirador Wap W300  vermelho e preto 110V...</td>\n",
       "      <td>949</td>\n",
       "    </tr>\n",
       "    <tr>\n",
       "      <th>7</th>\n",
       "      <td>Bicicleta Alum 29 Ksw Gta 27 Vel Freio Disco H...</td>\n",
       "      <td>1.329</td>\n",
       "    </tr>\n",
       "    <tr>\n",
       "      <th>8</th>\n",
       "      <td>Câmera Ip Icsee Prova D'água Infravermelho Ext...</td>\n",
       "      <td>169</td>\n",
       "    </tr>\n",
       "    <tr>\n",
       "      <th>9</th>\n",
       "      <td>Samsung Galaxy M13 Dual SIM 128 GB azul 4 GB RAM</td>\n",
       "      <td>999</td>\n",
       "    </tr>\n",
       "    <tr>\n",
       "      <th>10</th>\n",
       "      <td>Smart TV Samsung UN32T4300AGXZD LED HD 32\"</td>\n",
       "      <td>1.299</td>\n",
       "    </tr>\n",
       "    <tr>\n",
       "      <th>11</th>\n",
       "      <td>Controle joystick sem fio Microsoft Xbox Wirel...</td>\n",
       "      <td>389</td>\n",
       "    </tr>\n",
       "    <tr>\n",
       "      <th>12</th>\n",
       "      <td>Impressora a cor multifuncional HP Deskjet Ink...</td>\n",
       "      <td>387</td>\n",
       "    </tr>\n",
       "    <tr>\n",
       "      <th>13</th>\n",
       "      <td>Ar condicionado Consul  split inverter  frio 9...</td>\n",
       "      <td>1.606</td>\n",
       "    </tr>\n",
       "    <tr>\n",
       "      <th>14</th>\n",
       "      <td>Câmera Externa Ip Prova D'água Infravermelho E...</td>\n",
       "      <td>202</td>\n",
       "    </tr>\n",
       "    <tr>\n",
       "      <th>15</th>\n",
       "      <td>Samsung Galaxy A03s Dual SIM 64 GB preto 4 GB RAM</td>\n",
       "      <td>799</td>\n",
       "    </tr>\n",
       "    <tr>\n",
       "      <th>16</th>\n",
       "      <td>Monitor Gamer LG 22mp410-b 21,5 Full Hd 75hz 5...</td>\n",
       "      <td>619</td>\n",
       "    </tr>\n",
       "    <tr>\n",
       "      <th>17</th>\n",
       "      <td>Smart TV Samsung UN43AU7700GXZD LED 4K 43\" 100...</td>\n",
       "      <td>2.022</td>\n",
       "    </tr>\n",
       "    <tr>\n",
       "      <th>18</th>\n",
       "      <td>Suplemento em pó Soldiers Nutrition  Creatina ...</td>\n",
       "      <td>131</td>\n",
       "    </tr>\n",
       "    <tr>\n",
       "      <th>19</th>\n",
       "      <td>Ar condicionado LG Dual Inverter Voice  split ...</td>\n",
       "      <td>1.799</td>\n",
       "    </tr>\n",
       "    <tr>\n",
       "      <th>20</th>\n",
       "      <td>Notebook Acer Aspire 3 A31534c2bv Celeron 4gb ...</td>\n",
       "      <td>1.708</td>\n",
       "    </tr>\n",
       "    <tr>\n",
       "      <th>21</th>\n",
       "      <td>Samsung Galaxy M13 Dual SIM 128 GB cobre 4 GB RAM</td>\n",
       "      <td>999</td>\n",
       "    </tr>\n",
       "    <tr>\n",
       "      <th>22</th>\n",
       "      <td>Fone de ouvido on-ear sem fio JBL Tune 510BT J...</td>\n",
       "      <td>219</td>\n",
       "    </tr>\n",
       "    <tr>\n",
       "      <th>23</th>\n",
       "      <td>Escova Tourmaline Secadora Alisadora Britânia ...</td>\n",
       "      <td>169</td>\n",
       "    </tr>\n",
       "    <tr>\n",
       "      <th>24</th>\n",
       "      <td>Ventilador de mesa Mondial VSP-30 turbo preto ...</td>\n",
       "      <td>118</td>\n",
       "    </tr>\n",
       "    <tr>\n",
       "      <th>25</th>\n",
       "      <td>Câmera de segurança Intelbras iM3 com resoluçã...</td>\n",
       "      <td>249</td>\n",
       "    </tr>\n",
       "    <tr>\n",
       "      <th>26</th>\n",
       "      <td>Cadeira De Escritório Executiva Com Braços Nr 17</td>\n",
       "      <td>311</td>\n",
       "    </tr>\n",
       "    <tr>\n",
       "      <th>27</th>\n",
       "      <td>Notebook Samsung Book NP550XDA-KV3BR  cinza-mí...</td>\n",
       "      <td>2.299</td>\n",
       "    </tr>\n",
       "    <tr>\n",
       "      <th>28</th>\n",
       "      <td>Micro-ondas Philco Branca PMO23BB   branco 20L...</td>\n",
       "      <td>559</td>\n",
       "    </tr>\n",
       "    <tr>\n",
       "      <th>29</th>\n",
       "      <td>Samsung Galaxy A22 Dual SIM 128 GB preto 4 GB RAM</td>\n",
       "      <td>1.099</td>\n",
       "    </tr>\n",
       "    <tr>\n",
       "      <th>30</th>\n",
       "      <td>Micro-ondas Electrolux MS37R   prata 27L 127V</td>\n",
       "      <td>779</td>\n",
       "    </tr>\n",
       "    <tr>\n",
       "      <th>31</th>\n",
       "      <td>Samsung Galaxy A03 Core Dual SIM 32 GB black 2...</td>\n",
       "      <td>659</td>\n",
       "    </tr>\n",
       "    <tr>\n",
       "      <th>32</th>\n",
       "      <td>Monitor Samsung Gamer 22 Led Ls22a33anhlxzd Pr...</td>\n",
       "      <td>689</td>\n",
       "    </tr>\n",
       "  </tbody>\n",
       "</table>\n",
       "</div>"
      ],
      "text/plain": [
       "                                              Produto  Preço\n",
       "0   Bicicleta Aro 29 Krw Alumínio 24 Vel Freio A D...    899\n",
       "1   Kit 2x Whey Protein + 2x Bcaa + 2x Creatina + ...    135\n",
       "2   Fritadeira Elétrica Sem Óleo Airfryer Elgin Fl...    329\n",
       "3   Samsung Galaxy M13 Dual SIM 128 GB verde 4 GB RAM    999\n",
       "4   Smart TV LG 32LQ621CBSB .AWZ LED HD 32\" 100V/240V  1.329\n",
       "5   Notebook A315-58-573p I5 8gb 256gb Ssd 15,6'' ...  2.964\n",
       "6   Robô aspirador Wap W300  vermelho e preto 110V...    949\n",
       "7   Bicicleta Alum 29 Ksw Gta 27 Vel Freio Disco H...  1.329\n",
       "8   Câmera Ip Icsee Prova D'água Infravermelho Ext...    169\n",
       "9    Samsung Galaxy M13 Dual SIM 128 GB azul 4 GB RAM    999\n",
       "10         Smart TV Samsung UN32T4300AGXZD LED HD 32\"  1.299\n",
       "11  Controle joystick sem fio Microsoft Xbox Wirel...    389\n",
       "12  Impressora a cor multifuncional HP Deskjet Ink...    387\n",
       "13  Ar condicionado Consul  split inverter  frio 9...  1.606\n",
       "14  Câmera Externa Ip Prova D'água Infravermelho E...    202\n",
       "15  Samsung Galaxy A03s Dual SIM 64 GB preto 4 GB RAM    799\n",
       "16  Monitor Gamer LG 22mp410-b 21,5 Full Hd 75hz 5...    619\n",
       "17  Smart TV Samsung UN43AU7700GXZD LED 4K 43\" 100...  2.022\n",
       "18  Suplemento em pó Soldiers Nutrition  Creatina ...    131\n",
       "19  Ar condicionado LG Dual Inverter Voice  split ...  1.799\n",
       "20  Notebook Acer Aspire 3 A31534c2bv Celeron 4gb ...  1.708\n",
       "21  Samsung Galaxy M13 Dual SIM 128 GB cobre 4 GB RAM    999\n",
       "22  Fone de ouvido on-ear sem fio JBL Tune 510BT J...    219\n",
       "23  Escova Tourmaline Secadora Alisadora Britânia ...    169\n",
       "24  Ventilador de mesa Mondial VSP-30 turbo preto ...    118\n",
       "25  Câmera de segurança Intelbras iM3 com resoluçã...    249\n",
       "26  Cadeira De Escritório Executiva Com Braços Nr 17     311\n",
       "27  Notebook Samsung Book NP550XDA-KV3BR  cinza-mí...  2.299\n",
       "28  Micro-ondas Philco Branca PMO23BB   branco 20L...    559\n",
       "29  Samsung Galaxy A22 Dual SIM 128 GB preto 4 GB RAM  1.099\n",
       "30      Micro-ondas Electrolux MS37R   prata 27L 127V    779\n",
       "31  Samsung Galaxy A03 Core Dual SIM 32 GB black 2...    659\n",
       "32  Monitor Samsung Gamer 22 Led Ls22a33anhlxzd Pr...    689"
      ]
     },
     "metadata": {},
     "output_type": "display_data"
    }
   ],
   "source": [
    "tabela = pd.DataFrame(listaItems,columns=['Produto','Preço'])\n",
    "display(tabela)"
   ]
  },
  {
   "cell_type": "code",
   "execution_count": 135,
   "id": "513bd3b5",
   "metadata": {},
   "outputs": [],
   "source": [
    "tabela.to_excel('arquivo_scraping_teste.xlsx',index = False)"
   ]
  },
  {
   "cell_type": "code",
   "execution_count": null,
   "id": "48e9ff51",
   "metadata": {},
   "outputs": [],
   "source": []
  }
 ],
 "metadata": {
  "kernelspec": {
   "display_name": "Python 3 (ipykernel)",
   "language": "python",
   "name": "python3"
  },
  "language_info": {
   "codemirror_mode": {
    "name": "ipython",
    "version": 3
   },
   "file_extension": ".py",
   "mimetype": "text/x-python",
   "name": "python",
   "nbconvert_exporter": "python",
   "pygments_lexer": "ipython3",
   "version": "3.11.2"
  }
 },
 "nbformat": 4,
 "nbformat_minor": 5
}
